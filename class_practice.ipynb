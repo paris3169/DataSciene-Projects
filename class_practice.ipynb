{
  "nbformat": 4,
  "nbformat_minor": 0,
  "metadata": {
    "colab": {
      "provenance": [],
      "authorship_tag": "ABX9TyOrDuZ+loNvtzc9qvu4ejf+",
      "include_colab_link": true
    },
    "kernelspec": {
      "name": "python3",
      "display_name": "Python 3"
    },
    "language_info": {
      "name": "python"
    }
  },
  "cells": [
    {
      "cell_type": "markdown",
      "metadata": {
        "id": "view-in-github",
        "colab_type": "text"
      },
      "source": [
        "<a href=\"https://colab.research.google.com/github/paris3169/DataSciene-Projects/blob/main/class_practice.ipynb\" target=\"_parent\"><img src=\"https://colab.research.google.com/assets/colab-badge.svg\" alt=\"Open In Colab\"/></a>"
      ]
    },
    {
      "cell_type": "markdown",
      "source": [
        "**this is a practice notebook to recap Python Subclassing and also inheritance concept**"
      ],
      "metadata": {
        "id": "eXsuVwkr5JuL"
      }
    },
    {
      "cell_type": "code",
      "source": [
        "#Parent Class\n",
        "\n",
        "class Family():\n",
        "\n",
        "  def __init__(self,family_name,address):\n",
        "    #attributes of the parent Class\n",
        "    self.family_name=family_name\n",
        "    self.address=address\n",
        "    self.family_members=0   #this is set to zero at beginning\n",
        "    self._private=\"family banking account\"\n",
        "\n",
        "  #this is the method of the Parent class\n",
        "  def show_info(self):\n",
        "    return f\"family name: {self.family_name} | family_address: {self.address} | family_members: {self.family_members}\""
      ],
      "metadata": {
        "id": "gnNInTG6rygh"
      },
      "execution_count": 97,
      "outputs": []
    },
    {
      "cell_type": "code",
      "source": [
        "#Child Class\n",
        "\n",
        "class Person(Family):  #the Child class is importing the Parent class attributes and methods\n",
        "\n",
        "  def __init__(self,person_name,person_sex,person_age,relation,family_name,address):\n",
        "    self.person_name=person_name\n",
        "    self.person_sex=person_sex\n",
        "    self.person_sex=person_sex\n",
        "    self.relation=relation\n",
        "    super().__init__(family_name,address)   #see that I have used the super() suffix to refer to the parent class and called the init method\n",
        "    #see that all the parent class attibutes and methods are inierithed by the child class\n",
        "\n",
        "  def calculate_members(self):  #this child class method is updating an attribute (family_members) inherited by the Parent class..\n",
        "    self.family_members+=1   #this is the inherited attribute\n",
        "    return self.family_members\n",
        "\n",
        "  def show_info(self):  #see that in the Child class I can also override the method inherited while still referring to the original one with same name upsing the prefix super()\n",
        "    family=super().show_info()   #this is calling the original parent class method\n",
        "    new_info=f\"name: {self.__dict__['person_name']} | relation: {self.__dict__['relation']}\"\n",
        "    return family, new_info\n"
      ],
      "metadata": {
        "id": "82Q0D45ctdk8"
      },
      "execution_count": 98,
      "outputs": []
    },
    {
      "cell_type": "code",
      "source": [
        "myfamily=Family(\"Dettorre\",\"via del fontanile Roma\")"
      ],
      "metadata": {
        "id": "hzy4itxx5jHF"
      },
      "execution_count": 99,
      "outputs": []
    },
    {
      "cell_type": "code",
      "source": [
        "myfamily.show_info()"
      ],
      "metadata": {
        "colab": {
          "base_uri": "https://localhost:8080/",
          "height": 36
        },
        "id": "h52vd4yc5p6Z",
        "outputId": "bcd7a08c-c719-4530-eaa3-b32dc5c169f4"
      },
      "execution_count": 102,
      "outputs": [
        {
          "output_type": "execute_result",
          "data": {
            "text/plain": [
              "'family name: Dettorre | family_address: via del fontanile Roma | family_members: 0'"
            ],
            "application/vnd.google.colaboratory.intrinsic+json": {
              "type": "string"
            }
          },
          "metadata": {},
          "execution_count": 102
        }
      ]
    },
    {
      "cell_type": "code",
      "source": [
        "myself=Person(\"paris\",\"male\",53,\"Father\",\"Dettorre\",\"via del fontanile Roma\")"
      ],
      "metadata": {
        "id": "zhR3WoiMvuUP"
      },
      "execution_count": 103,
      "outputs": []
    },
    {
      "cell_type": "code",
      "source": [
        "myself.show_info()   #this is the first call of info and see that there are the inherited attributes from the Parent class"
      ],
      "metadata": {
        "colab": {
          "base_uri": "https://localhost:8080/",
          "height": 0
        },
        "id": "ikZpUms3xSrl",
        "outputId": "2b41a125-3393-4f9f-aaf8-29c1df4bc3ef"
      },
      "execution_count": 104,
      "outputs": [
        {
          "output_type": "execute_result",
          "data": {
            "text/plain": [
              "('family name: Dettorre | family_address: via del fontanile Roma | family_members: 0',\n",
              " 'name: paris | relation: Father')"
            ]
          },
          "metadata": {},
          "execution_count": 104
        }
      ]
    },
    {
      "cell_type": "code",
      "source": [
        "myself.__dict__"
      ],
      "metadata": {
        "colab": {
          "base_uri": "https://localhost:8080/",
          "height": 0
        },
        "id": "iISu4FIl0BPc",
        "outputId": "3a78f416-1f7d-494a-87b5-e4568f5c2a65"
      },
      "execution_count": 105,
      "outputs": [
        {
          "output_type": "execute_result",
          "data": {
            "text/plain": [
              "{'person_name': 'paris',\n",
              " 'person_sex': 'male',\n",
              " 'relation': 'Father',\n",
              " 'family_name': 'Dettorre',\n",
              " 'address': 'via del fontanile Roma',\n",
              " 'family_members': 0,\n",
              " '_private': 'family banking account'}"
            ]
          },
          "metadata": {},
          "execution_count": 105
        }
      ]
    },
    {
      "cell_type": "code",
      "source": [
        "myself.calculate_members()  #I call the child class method"
      ],
      "metadata": {
        "colab": {
          "base_uri": "https://localhost:8080/",
          "height": 0
        },
        "id": "HStL0IcjybrN",
        "outputId": "e47cb483-d62b-4d55-c5c3-72b0da5c60db"
      },
      "execution_count": 106,
      "outputs": [
        {
          "output_type": "execute_result",
          "data": {
            "text/plain": [
              "1"
            ]
          },
          "metadata": {},
          "execution_count": 106
        }
      ]
    },
    {
      "cell_type": "code",
      "source": [
        "myself.show_info()   #see that now that I have called the method calculate_members the family_members attribute inherited is updated"
      ],
      "metadata": {
        "colab": {
          "base_uri": "https://localhost:8080/",
          "height": 0
        },
        "id": "-rz9YMcG3Iar",
        "outputId": "2655fed5-0d3c-4e11-bbb3-5974171b3948"
      },
      "execution_count": 107,
      "outputs": [
        {
          "output_type": "execute_result",
          "data": {
            "text/plain": [
              "('family name: Dettorre | family_address: via del fontanile Roma | family_members: 1',\n",
              " 'name: paris | relation: Father')"
            ]
          },
          "metadata": {},
          "execution_count": 107
        }
      ]
    },
    {
      "cell_type": "code",
      "source": [
        "myself.__dict__"
      ],
      "metadata": {
        "colab": {
          "base_uri": "https://localhost:8080/",
          "height": 0
        },
        "id": "Na6Ay2yl4_Q9",
        "outputId": "70e2cce6-0e9e-4ab7-ed5d-76dc94a56118"
      },
      "execution_count": 108,
      "outputs": [
        {
          "output_type": "execute_result",
          "data": {
            "text/plain": [
              "{'person_name': 'paris',\n",
              " 'person_sex': 'male',\n",
              " 'relation': 'Father',\n",
              " 'family_name': 'Dettorre',\n",
              " 'address': 'via del fontanile Roma',\n",
              " 'family_members': 1,\n",
              " '_private': 'family banking account'}"
            ]
          },
          "metadata": {},
          "execution_count": 108
        }
      ]
    },
    {
      "cell_type": "code",
      "source": [
        "myself.sex=\"female\""
      ],
      "metadata": {
        "id": "D-_ytkyItcgC"
      },
      "execution_count": 109,
      "outputs": []
    },
    {
      "cell_type": "code",
      "source": [
        "myself.__dict__  #check that the public attribute has been changed"
      ],
      "metadata": {
        "colab": {
          "base_uri": "https://localhost:8080/",
          "height": 0
        },
        "id": "OI1HWfUPA0gK",
        "outputId": "7a4a1b84-2365-46f8-c427-d74e083bb5ec"
      },
      "execution_count": 110,
      "outputs": [
        {
          "output_type": "execute_result",
          "data": {
            "text/plain": [
              "{'person_name': 'paris',\n",
              " 'person_sex': 'male',\n",
              " 'relation': 'Father',\n",
              " 'family_name': 'Dettorre',\n",
              " 'address': 'via del fontanile Roma',\n",
              " 'family_members': 1,\n",
              " '_private': 'family banking account',\n",
              " 'sex': 'female'}"
            ]
          },
          "metadata": {},
          "execution_count": 110
        }
      ]
    }
  ]
}