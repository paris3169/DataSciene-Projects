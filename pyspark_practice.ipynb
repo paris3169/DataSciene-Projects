{
  "nbformat": 4,
  "nbformat_minor": 0,
  "metadata": {
    "colab": {
      "provenance": [],
      "authorship_tag": "ABX9TyMASrB0pm324EMk2TBeTdiY",
      "include_colab_link": true
    },
    "kernelspec": {
      "name": "python3",
      "display_name": "Python 3"
    },
    "language_info": {
      "name": "python"
    }
  },
  "cells": [
    {
      "cell_type": "markdown",
      "metadata": {
        "id": "view-in-github",
        "colab_type": "text"
      },
      "source": [
        "<a href=\"https://colab.research.google.com/github/paris3169/DataSciene-Projects/blob/main/pyspark_practice.ipynb\" target=\"_parent\"><img src=\"https://colab.research.google.com/assets/colab-badge.svg\" alt=\"Open In Colab\"/></a>"
      ]
    },
    {
      "cell_type": "code",
      "execution_count": 1,
      "metadata": {
        "id": "yL7Fm9-r-UzS"
      },
      "outputs": [],
      "source": [
        "import pandas as pd\n",
        "import numpy as np"
      ]
    },
    {
      "cell_type": "code",
      "source": [
        "!pip install pyspark"
      ],
      "metadata": {
        "id": "sBW-RGd0-eeF"
      },
      "execution_count": null,
      "outputs": []
    },
    {
      "cell_type": "code",
      "source": [
        "import pyspark"
      ],
      "metadata": {
        "id": "h_A4dz88VMP7"
      },
      "execution_count": 6,
      "outputs": []
    },
    {
      "cell_type": "code",
      "source": [
        "pyspark.__version__"
      ],
      "metadata": {
        "colab": {
          "base_uri": "https://localhost:8080/",
          "height": 36
        },
        "id": "ALBT-rhOVWsS",
        "outputId": "1c75d905-9839-4fd2-a9e2-d8824ab85a71"
      },
      "execution_count": 6,
      "outputs": [
        {
          "output_type": "execute_result",
          "data": {
            "text/plain": [
              "'3.3.2'"
            ],
            "application/vnd.google.colaboratory.intrinsic+json": {
              "type": "string"
            }
          },
          "metadata": {},
          "execution_count": 6
        }
      ]
    },
    {
      "cell_type": "code",
      "source": [
        "#let's create a Spark Context\n",
        "from pyspark import SparkContext"
      ],
      "metadata": {
        "id": "gm3eREicVbEB"
      },
      "execution_count": 5,
      "outputs": []
    },
    {
      "cell_type": "markdown",
      "source": [
        "## Playing with Text with Pyspark Context and RDD  objects"
      ],
      "metadata": {
        "id": "Tc7j7pZlXP-u"
      }
    },
    {
      "cell_type": "code",
      "source": [
        "%%writefile example.txt\n",
        "first\n",
        "second line\n",
        "the third line\n",
        "then a fourth line"
      ],
      "metadata": {
        "colab": {
          "base_uri": "https://localhost:8080/",
          "height": 0
        },
        "id": "kFbTX9HZVt-E",
        "outputId": "9f23f082-f7a4-40c4-c38e-e3e33764abc0"
      },
      "execution_count": 9,
      "outputs": [
        {
          "output_type": "stream",
          "name": "stdout",
          "text": [
            "Writing example.txt\n"
          ]
        }
      ]
    },
    {
      "cell_type": "code",
      "source": [
        "sc=SparkContext()"
      ],
      "metadata": {
        "id": "OorQd2xQVlMj"
      },
      "execution_count": 6,
      "outputs": []
    },
    {
      "cell_type": "code",
      "source": [
        "sc"
      ],
      "metadata": {
        "colab": {
          "base_uri": "https://localhost:8080/",
          "height": 196
        },
        "id": "djDlMYQVVrnC",
        "outputId": "d2238a27-8e19-4f1d-9357-c88feb76220b"
      },
      "execution_count": 7,
      "outputs": [
        {
          "output_type": "execute_result",
          "data": {
            "text/plain": [
              "<SparkContext master=local[*] appName=pyspark-shell>"
            ],
            "text/html": [
              "\n",
              "        <div>\n",
              "            <p><b>SparkContext</b></p>\n",
              "\n",
              "            <p><a href=\"http://3c29e9daa35b:4040\">Spark UI</a></p>\n",
              "\n",
              "            <dl>\n",
              "              <dt>Version</dt>\n",
              "                <dd><code>v3.3.2</code></dd>\n",
              "              <dt>Master</dt>\n",
              "                <dd><code>local[*]</code></dd>\n",
              "              <dt>AppName</dt>\n",
              "                <dd><code>pyspark-shell</code></dd>\n",
              "            </dl>\n",
              "        </div>\n",
              "        "
            ]
          },
          "metadata": {},
          "execution_count": 7
        }
      ]
    },
    {
      "cell_type": "code",
      "source": [
        "#let's define avaliable for the RDD text dataset\n",
        "text_rdd=sc.textFile(\"example.txt\")"
      ],
      "metadata": {
        "id": "udeG1oRVWODa"
      },
      "execution_count": 11,
      "outputs": []
    },
    {
      "cell_type": "code",
      "source": [
        "text_rdd"
      ],
      "metadata": {
        "colab": {
          "base_uri": "https://localhost:8080/",
          "height": 0
        },
        "id": "Ys6GdyNkWdqr",
        "outputId": "c84b22f5-8989-485b-ac9c-9abd82490e1d"
      },
      "execution_count": 12,
      "outputs": [
        {
          "output_type": "execute_result",
          "data": {
            "text/plain": [
              "example.txt MapPartitionsRDD[3] at textFile at NativeMethodAccessorImpl.java:0"
            ]
          },
          "metadata": {},
          "execution_count": 12
        }
      ]
    },
    {
      "cell_type": "code",
      "source": [
        "text_rdd.collect()"
      ],
      "metadata": {
        "colab": {
          "base_uri": "https://localhost:8080/",
          "height": 0
        },
        "id": "WP62oqNIXfE0",
        "outputId": "a50b9700-2ed4-41c6-8b8c-8ba97b9f6119"
      },
      "execution_count": 17,
      "outputs": [
        {
          "output_type": "execute_result",
          "data": {
            "text/plain": [
              "['first', 'second line', 'the third line', 'then a fourth line']"
            ]
          },
          "metadata": {},
          "execution_count": 17
        }
      ]
    },
    {
      "cell_type": "code",
      "source": [
        "#let's apply to the RDD text object a transformation using the map tranformation\n",
        "words= text_rdd.map(lambda line:line.split())"
      ],
      "metadata": {
        "id": "XobTTAT7W12G"
      },
      "execution_count": 13,
      "outputs": []
    },
    {
      "cell_type": "code",
      "source": [
        "words  #this is just another RDD onbject created by the map transformation"
      ],
      "metadata": {
        "colab": {
          "base_uri": "https://localhost:8080/",
          "height": 0
        },
        "id": "AWnTMbyVXL1X",
        "outputId": "5bf99805-bd02-481e-be98-b88b273408e9"
      },
      "execution_count": 15,
      "outputs": [
        {
          "output_type": "execute_result",
          "data": {
            "text/plain": [
              "PythonRDD[4] at RDD at PythonRDD.scala:53"
            ]
          },
          "metadata": {},
          "execution_count": 15
        }
      ]
    },
    {
      "cell_type": "code",
      "source": [
        "#let's apply now an action to this object to see some results\n",
        "words.collect()"
      ],
      "metadata": {
        "colab": {
          "base_uri": "https://localhost:8080/",
          "height": 0
        },
        "id": "yfn7JDIHXTSJ",
        "outputId": "dcee1880-6ac0-4e78-baf2-36baaaca9eb5"
      },
      "execution_count": 16,
      "outputs": [
        {
          "output_type": "execute_result",
          "data": {
            "text/plain": [
              "[['first'],\n",
              " ['second', 'line'],\n",
              " ['the', 'third', 'line'],\n",
              " ['then', 'a', 'fourth', 'line']]"
            ]
          },
          "metadata": {},
          "execution_count": 16
        }
      ]
    },
    {
      "cell_type": "markdown",
      "source": [
        "its' evident the difference when applying the map tranformation with the line split lambda expression"
      ],
      "metadata": {
        "id": "YbSvdTOsXs2Y"
      }
    },
    {
      "cell_type": "code",
      "source": [
        "#using flatMap tranformation of RDD together with the collect action\n",
        "text_rdd.flatMap(lambda line: line.split()).collect()"
      ],
      "metadata": {
        "colab": {
          "base_uri": "https://localhost:8080/",
          "height": 0
        },
        "id": "U_qDWD1vX3Oi",
        "outputId": "6b00c88f-b963-4020-d871-19523c088375"
      },
      "execution_count": 18,
      "outputs": [
        {
          "output_type": "execute_result",
          "data": {
            "text/plain": [
              "['first',\n",
              " 'second',\n",
              " 'line',\n",
              " 'the',\n",
              " 'third',\n",
              " 'line',\n",
              " 'then',\n",
              " 'a',\n",
              " 'fourth',\n",
              " 'line']"
            ]
          },
          "metadata": {},
          "execution_count": 18
        }
      ]
    },
    {
      "cell_type": "code",
      "source": [
        "%%writefile services.txt\n",
        "#Eventid  Timestamp Customer  State Amount,\n",
        "201 10/13/2017 100 NY 131 100\n",
        "202 10/14/2017 101 NY 131 200\n",
        "203 10/15/2017 102 CA 131 350\n",
        "204 10/16/2017 103 NY 131 799\n",
        "205 10/17/2017 104 CA 131 320\n",
        "206 10/18/2017 105 CA 131 250"
      ],
      "metadata": {
        "colab": {
          "base_uri": "https://localhost:8080/",
          "height": 0
        },
        "id": "_nJEyZ9-YRhQ",
        "outputId": "761489b4-8c58-46af-90c6-c4a0b251b6ce"
      },
      "execution_count": 74,
      "outputs": [
        {
          "output_type": "stream",
          "name": "stdout",
          "text": [
            "Overwriting services.txt\n"
          ]
        }
      ]
    },
    {
      "cell_type": "code",
      "source": [
        "services=sc.textFile(\"services.txt\")"
      ],
      "metadata": {
        "id": "Mi40rvEraB3V"
      },
      "execution_count": 75,
      "outputs": []
    },
    {
      "cell_type": "code",
      "source": [
        "services.take(3)"
      ],
      "metadata": {
        "colab": {
          "base_uri": "https://localhost:8080/",
          "height": 0
        },
        "id": "6hrvilEyaObV",
        "outputId": "dfba9aab-956d-4099-e9bd-fbe4335be505"
      },
      "execution_count": 76,
      "outputs": [
        {
          "output_type": "execute_result",
          "data": {
            "text/plain": [
              "['#Eventid  Timestamp Customer  State Amount,',\n",
              " '201 10/13/2017 100 NY 131 100',\n",
              " '202 10/14/2017 101 NY 131 200']"
            ]
          },
          "metadata": {},
          "execution_count": 76
        }
      ]
    },
    {
      "cell_type": "code",
      "source": [
        "services.map(lambda line: line.split()).take(3)"
      ],
      "metadata": {
        "colab": {
          "base_uri": "https://localhost:8080/",
          "height": 0
        },
        "id": "Cxm3HUzCbGRy",
        "outputId": "de0a829e-f79f-49bd-d0a8-c5720ca82061"
      },
      "execution_count": 77,
      "outputs": [
        {
          "output_type": "execute_result",
          "data": {
            "text/plain": [
              "[['#Eventid', 'Timestamp', 'Customer', 'State', 'Amount,'],\n",
              " ['201', '10/13/2017', '100', 'NY', '131', '100'],\n",
              " ['202', '10/14/2017', '101', 'NY', '131', '200']]"
            ]
          },
          "metadata": {},
          "execution_count": 77
        }
      ]
    },
    {
      "cell_type": "code",
      "source": [
        "clean=services.map(lambda line: line[1:] if line[0]==\"#\" else line)"
      ],
      "metadata": {
        "id": "Djt2OsqYbcEI"
      },
      "execution_count": 78,
      "outputs": []
    },
    {
      "cell_type": "code",
      "source": [
        "clean=clean.map(lambda line:line.split())"
      ],
      "metadata": {
        "id": "9sUCgaPKdXan"
      },
      "execution_count": 79,
      "outputs": []
    },
    {
      "cell_type": "code",
      "source": [
        "clean.collect()"
      ],
      "metadata": {
        "colab": {
          "base_uri": "https://localhost:8080/",
          "height": 0
        },
        "id": "bJMOevNGcZyR",
        "outputId": "d03d79ec-cddb-4483-ae14-d2fd22619910"
      },
      "execution_count": 80,
      "outputs": [
        {
          "output_type": "execute_result",
          "data": {
            "text/plain": [
              "[['Eventid', 'Timestamp', 'Customer', 'State', 'Amount,'],\n",
              " ['201', '10/13/2017', '100', 'NY', '131', '100'],\n",
              " ['202', '10/14/2017', '101', 'NY', '131', '200'],\n",
              " ['203', '10/15/2017', '102', 'CA', '131', '350'],\n",
              " ['204', '10/16/2017', '103', 'NY', '131', '799'],\n",
              " ['205', '10/17/2017', '104', 'CA', '131', '320'],\n",
              " ['206', '10/18/2017', '105', 'CA', '131', '250']]"
            ]
          },
          "metadata": {},
          "execution_count": 80
        }
      ]
    },
    {
      "cell_type": "code",
      "source": [
        "clean.map(lambda lst:(lst[3],lst[-1])).collect()"
      ],
      "metadata": {
        "colab": {
          "base_uri": "https://localhost:8080/",
          "height": 0
        },
        "id": "-uNpbaM_ctYP",
        "outputId": "d71c2686-f97f-47e5-f802-13bfab062929"
      },
      "execution_count": 81,
      "outputs": [
        {
          "output_type": "execute_result",
          "data": {
            "text/plain": [
              "[('State', 'Amount,'),\n",
              " ('NY', '100'),\n",
              " ('NY', '200'),\n",
              " ('CA', '350'),\n",
              " ('NY', '799'),\n",
              " ('CA', '320'),\n",
              " ('CA', '250')]"
            ]
          },
          "metadata": {},
          "execution_count": 81
        }
      ]
    },
    {
      "cell_type": "code",
      "source": [
        "pairs=clean.map(lambda lst:(lst[3],lst[-1]))"
      ],
      "metadata": {
        "id": "SdFbqh12eI7f"
      },
      "execution_count": 82,
      "outputs": []
    },
    {
      "cell_type": "code",
      "source": [
        "pairs.collect()"
      ],
      "metadata": {
        "colab": {
          "base_uri": "https://localhost:8080/",
          "height": 0
        },
        "id": "GQ5-b4jae_oY",
        "outputId": "8938a547-12a6-4103-b2ea-e8460103185b"
      },
      "execution_count": 83,
      "outputs": [
        {
          "output_type": "execute_result",
          "data": {
            "text/plain": [
              "[('State', 'Amount,'),\n",
              " ('NY', '100'),\n",
              " ('NY', '200'),\n",
              " ('CA', '350'),\n",
              " ('NY', '799'),\n",
              " ('CA', '320'),\n",
              " ('CA', '250')]"
            ]
          },
          "metadata": {},
          "execution_count": 83
        }
      ]
    },
    {
      "cell_type": "code",
      "source": [
        "#we can reduceByKey you need to have RDD arranged in such a way that first col is the key\n",
        "rekey=pairs.reduceByKey(lambda amt1,amt2:float(amt1)+float(amt2))"
      ],
      "metadata": {
        "id": "bC236HVKeOyT"
      },
      "execution_count": 84,
      "outputs": []
    },
    {
      "cell_type": "code",
      "source": [
        "rekey.collect()"
      ],
      "metadata": {
        "colab": {
          "base_uri": "https://localhost:8080/",
          "height": 0
        },
        "id": "gii48EqFfChG",
        "outputId": "d5525d74-321c-42b0-8afb-d6dd5b8a7145"
      },
      "execution_count": 85,
      "outputs": [
        {
          "output_type": "execute_result",
          "data": {
            "text/plain": [
              "[('State', 'Amount,'), ('NY', 1099.0), ('CA', 920.0)]"
            ]
          },
          "metadata": {},
          "execution_count": 85
        }
      ]
    },
    {
      "cell_type": "code",
      "source": [
        "#get rid of (State,Amount)\n",
        "rekey2=rekey.filter(lambda x: not x[0]==\"State\")"
      ],
      "metadata": {
        "id": "tZm4TIPMfXlP"
      },
      "execution_count": 86,
      "outputs": []
    },
    {
      "cell_type": "code",
      "source": [
        "rekey2.collect()"
      ],
      "metadata": {
        "colab": {
          "base_uri": "https://localhost:8080/",
          "height": 0
        },
        "id": "2rcPfQxfgJOy",
        "outputId": "1b3ca3b5-b81d-4c97-884d-d6b2e81e0fce"
      },
      "execution_count": 87,
      "outputs": [
        {
          "output_type": "execute_result",
          "data": {
            "text/plain": [
              "[('NY', 1099.0), ('CA', 920.0)]"
            ]
          },
          "metadata": {},
          "execution_count": 87
        }
      ]
    },
    {
      "cell_type": "code",
      "source": [
        "rekey3=rekey2.sortBy(lambda x:x[1],ascending=True)"
      ],
      "metadata": {
        "id": "nJuucxBRgWcW"
      },
      "execution_count": 91,
      "outputs": []
    },
    {
      "cell_type": "code",
      "source": [
        "rekey3.collect()"
      ],
      "metadata": {
        "colab": {
          "base_uri": "https://localhost:8080/",
          "height": 0
        },
        "id": "dK0vls0fg5rL",
        "outputId": "1fac5adf-b1c1-454a-f6be-b8507ba697de"
      },
      "execution_count": 92,
      "outputs": [
        {
          "output_type": "execute_result",
          "data": {
            "text/plain": [
              "[('CA', 920.0), ('NY', 1099.0)]"
            ]
          },
          "metadata": {},
          "execution_count": 92
        }
      ]
    },
    {
      "cell_type": "markdown",
      "source": [
        "## Additional Practice on PySpark using You Tube video lecture from Krish Naik"
      ],
      "metadata": {
        "id": "QMALj6-VXaY5"
      }
    },
    {
      "cell_type": "markdown",
      "source": [
        "Additional practice following you tube tutorial:https://www.youtube.com/watch?v=7I4YZwaJgPs&list=PLZoTAELRMXVNjiiawhzZ0afHcPvC8jpcg&index=2\n"
      ],
      "metadata": {
        "id": "JHv5IEEwKkwp"
      }
    },
    {
      "cell_type": "markdown",
      "source": [
        "for understanding the difference between a Spark Context and a Spark Session please read this blog: https://www.ksolves.com/blog/big-data/spark/sparksession-vs-sparkcontext-what-are-the-differences#:~:text=In%20earlier%20versions%20of%20Spark,programming%20with%20DataFrame%20and%20Dataset."
      ],
      "metadata": {
        "id": "I30aCi0YOnwF"
      }
    },
    {
      "cell_type": "markdown",
      "source": [
        "##Playing with PySpark DataFrames"
      ],
      "metadata": {
        "id": "rdNXSO2mW8Q1"
      }
    },
    {
      "cell_type": "code",
      "source": [
        "from pyspark.sql import SparkSession  #see that this is needed to work with DataFrames and this is way this is part of sql library"
      ],
      "metadata": {
        "id": "z7ALy3GXNfBc"
      },
      "execution_count": 4,
      "outputs": []
    },
    {
      "cell_type": "code",
      "source": [
        "spark=SparkSession.builder.appName(\"Dataframe\").getOrCreate()"
      ],
      "metadata": {
        "id": "09SqTSkbPAqI"
      },
      "execution_count": 5,
      "outputs": []
    },
    {
      "cell_type": "code",
      "source": [
        "spark"
      ],
      "metadata": {
        "colab": {
          "base_uri": "https://localhost:8080/",
          "height": 219
        },
        "id": "F2HtO4rKPRp3",
        "outputId": "cae1cf1c-a965-405e-e722-6a93a4e94bdd"
      },
      "execution_count": 6,
      "outputs": [
        {
          "output_type": "execute_result",
          "data": {
            "text/plain": [
              "<pyspark.sql.session.SparkSession at 0x7fd7563019d0>"
            ],
            "text/html": [
              "\n",
              "            <div>\n",
              "                <p><b>SparkSession - in-memory</b></p>\n",
              "                \n",
              "        <div>\n",
              "            <p><b>SparkContext</b></p>\n",
              "\n",
              "            <p><a href=\"http://c158f9740051:4040\">Spark UI</a></p>\n",
              "\n",
              "            <dl>\n",
              "              <dt>Version</dt>\n",
              "                <dd><code>v3.3.2</code></dd>\n",
              "              <dt>Master</dt>\n",
              "                <dd><code>local[*]</code></dd>\n",
              "              <dt>AppName</dt>\n",
              "                <dd><code>Dataframe</code></dd>\n",
              "            </dl>\n",
              "        </div>\n",
              "        \n",
              "            </div>\n",
              "        "
            ]
          },
          "metadata": {},
          "execution_count": 6
        }
      ]
    },
    {
      "cell_type": "code",
      "source": [
        "#read the dataframe\n",
        "df_pyspark=spark.read.option(\"header\",\"true\").csv(\"test.csv\")"
      ],
      "metadata": {
        "id": "Yg4ZjW6JPTuE"
      },
      "execution_count": 7,
      "outputs": []
    },
    {
      "cell_type": "code",
      "source": [
        "df_pyspark.show()"
      ],
      "metadata": {
        "colab": {
          "base_uri": "https://localhost:8080/",
          "height": 0
        },
        "id": "z5hwFbNrQeZk",
        "outputId": "0e8c6f5d-9b53-4200-e83e-a99691b28380"
      },
      "execution_count": 8,
      "outputs": [
        {
          "output_type": "stream",
          "name": "stdout",
          "text": [
            "+--------+----+----------+------+\n",
            "|    name| age|Experience|Salary|\n",
            "+--------+----+----------+------+\n",
            "|   Paris|  54|        10| 20000|\n",
            "|    Manu|  49|         8| 50000|\n",
            "|Gabriele|  19|         9| 15000|\n",
            "|  Davide|  15|         4|  null|\n",
            "|  Manesh|null|      null| 40000|\n",
            "|    null|  34|        10| 38000|\n",
            "|    null|  36|      null|  null|\n",
            "+--------+----+----------+------+\n",
            "\n"
          ]
        }
      ]
    },
    {
      "cell_type": "code",
      "source": [
        "df_pyspark.printSchema()  #this is similar to pandas .info() for a dataframe"
      ],
      "metadata": {
        "colab": {
          "base_uri": "https://localhost:8080/",
          "height": 0
        },
        "id": "EvHoYesGQifs",
        "outputId": "0ab4cb35-b6b9-4902-8061-8f8bacaa30a7"
      },
      "execution_count": 9,
      "outputs": [
        {
          "output_type": "stream",
          "name": "stdout",
          "text": [
            "root\n",
            " |-- name: string (nullable = true)\n",
            " |-- age: string (nullable = true)\n",
            " |-- Experience: string (nullable = true)\n",
            " |-- Salary: string (nullable = true)\n",
            "\n"
          ]
        }
      ]
    },
    {
      "cell_type": "code",
      "source": [
        "df_pyspark=spark.read.csv(\"test.csv\",header=True,inferSchema=True)  #this is the best option to read the file\n",
        "df_pyspark"
      ],
      "metadata": {
        "colab": {
          "base_uri": "https://localhost:8080/",
          "height": 0
        },
        "id": "wF66xxyfQrMe",
        "outputId": "c3173e21-0b91-4eda-b093-f23891c9f116"
      },
      "execution_count": 10,
      "outputs": [
        {
          "output_type": "execute_result",
          "data": {
            "text/plain": [
              "DataFrame[name: string, age: int, Experience: int, Salary: int]"
            ]
          },
          "metadata": {},
          "execution_count": 10
        }
      ]
    },
    {
      "cell_type": "code",
      "source": [
        "df_pyspark.show()"
      ],
      "metadata": {
        "colab": {
          "base_uri": "https://localhost:8080/",
          "height": 0
        },
        "id": "K8cUV87ORJ7b",
        "outputId": "1dc33923-aef1-437b-b33d-d8d8c74e7dd0"
      },
      "execution_count": 11,
      "outputs": [
        {
          "output_type": "stream",
          "name": "stdout",
          "text": [
            "+--------+----+----------+------+\n",
            "|    name| age|Experience|Salary|\n",
            "+--------+----+----------+------+\n",
            "|   Paris|  54|        10| 20000|\n",
            "|    Manu|  49|         8| 50000|\n",
            "|Gabriele|  19|         9| 15000|\n",
            "|  Davide|  15|         4|  null|\n",
            "|  Manesh|null|      null| 40000|\n",
            "|    null|  34|        10| 38000|\n",
            "|    null|  36|      null|  null|\n",
            "+--------+----+----------+------+\n",
            "\n"
          ]
        }
      ]
    },
    {
      "cell_type": "code",
      "source": [
        "df_pyspark.printSchema()  #this is to check the data type of the element of the database"
      ],
      "metadata": {
        "colab": {
          "base_uri": "https://localhost:8080/",
          "height": 0
        },
        "id": "1KV1-UKwSMOj",
        "outputId": "be484aa1-c7ad-4f22-daac-bd500df1dd44"
      },
      "execution_count": 12,
      "outputs": [
        {
          "output_type": "stream",
          "name": "stdout",
          "text": [
            "root\n",
            " |-- name: string (nullable = true)\n",
            " |-- age: integer (nullable = true)\n",
            " |-- Experience: integer (nullable = true)\n",
            " |-- Salary: integer (nullable = true)\n",
            "\n"
          ]
        }
      ]
    },
    {
      "cell_type": "code",
      "source": [
        "type(df_pyspark)"
      ],
      "metadata": {
        "colab": {
          "base_uri": "https://localhost:8080/",
          "height": 0
        },
        "id": "uNKWQIMJSTZL",
        "outputId": "d3484882-2791-4403-f736-a865f58f0af7"
      },
      "execution_count": 13,
      "outputs": [
        {
          "output_type": "execute_result",
          "data": {
            "text/plain": [
              "pyspark.sql.dataframe.DataFrame"
            ]
          },
          "metadata": {},
          "execution_count": 13
        }
      ]
    },
    {
      "cell_type": "code",
      "source": [
        "df_pyspark.columns  #this is similar to df.columns in pandas"
      ],
      "metadata": {
        "colab": {
          "base_uri": "https://localhost:8080/",
          "height": 0
        },
        "id": "w-qgBZWcSbl8",
        "outputId": "05d18f35-01c1-4d49-ab39-f83f16d64493"
      },
      "execution_count": 14,
      "outputs": [
        {
          "output_type": "execute_result",
          "data": {
            "text/plain": [
              "['name', 'age', 'Experience', 'Salary']"
            ]
          },
          "metadata": {},
          "execution_count": 14
        }
      ]
    },
    {
      "cell_type": "code",
      "source": [
        "df_pyspark.head(3)  #this is similar to pandas df command .head()"
      ],
      "metadata": {
        "colab": {
          "base_uri": "https://localhost:8080/",
          "height": 0
        },
        "id": "yjDn0ZyJShFZ",
        "outputId": "9055f6c7-50da-4e0d-c7a2-77fa0713a93f"
      },
      "execution_count": 15,
      "outputs": [
        {
          "output_type": "execute_result",
          "data": {
            "text/plain": [
              "[Row(name='Paris', age=54, Experience=10, Salary=20000),\n",
              " Row(name='Manu', age=49, Experience=8, Salary=50000),\n",
              " Row(name='Gabriele', age=19, Experience=9, Salary=15000)]"
            ]
          },
          "metadata": {},
          "execution_count": 15
        }
      ]
    },
    {
      "cell_type": "code",
      "source": [
        "df_pyspark.show()"
      ],
      "metadata": {
        "colab": {
          "base_uri": "https://localhost:8080/",
          "height": 0
        },
        "id": "eL1MrlHsSxsm",
        "outputId": "a6310d70-2c28-4c4a-925d-d2feed1927b8"
      },
      "execution_count": 16,
      "outputs": [
        {
          "output_type": "stream",
          "name": "stdout",
          "text": [
            "+--------+----+----------+------+\n",
            "|    name| age|Experience|Salary|\n",
            "+--------+----+----------+------+\n",
            "|   Paris|  54|        10| 20000|\n",
            "|    Manu|  49|         8| 50000|\n",
            "|Gabriele|  19|         9| 15000|\n",
            "|  Davide|  15|         4|  null|\n",
            "|  Manesh|null|      null| 40000|\n",
            "|    null|  34|        10| 38000|\n",
            "|    null|  36|      null|  null|\n",
            "+--------+----+----------+------+\n",
            "\n"
          ]
        }
      ]
    },
    {
      "cell_type": "code",
      "source": [
        "#to pick up a specific columns\n",
        "df_pyspark.select(\"name\").show()"
      ],
      "metadata": {
        "colab": {
          "base_uri": "https://localhost:8080/",
          "height": 0
        },
        "id": "03auqXxQS4q7",
        "outputId": "a892202d-0141-4f04-cb11-055c1c28edd3"
      },
      "execution_count": 17,
      "outputs": [
        {
          "output_type": "stream",
          "name": "stdout",
          "text": [
            "+--------+\n",
            "|    name|\n",
            "+--------+\n",
            "|   Paris|\n",
            "|    Manu|\n",
            "|Gabriele|\n",
            "|  Davide|\n",
            "|  Manesh|\n",
            "|    null|\n",
            "|    null|\n",
            "+--------+\n",
            "\n"
          ]
        }
      ]
    },
    {
      "cell_type": "code",
      "source": [
        "df_pyspark.select([\"name\",\"Experience\"]).show()  #this is retutning a dataframe"
      ],
      "metadata": {
        "colab": {
          "base_uri": "https://localhost:8080/",
          "height": 0
        },
        "id": "Bl3oE0H8TC_U",
        "outputId": "db518fcf-fb78-4610-c587-299bfa09bc5e"
      },
      "execution_count": 18,
      "outputs": [
        {
          "output_type": "stream",
          "name": "stdout",
          "text": [
            "+--------+----------+\n",
            "|    name|Experience|\n",
            "+--------+----------+\n",
            "|   Paris|        10|\n",
            "|    Manu|         8|\n",
            "|Gabriele|         9|\n",
            "|  Davide|         4|\n",
            "|  Manesh|      null|\n",
            "|    null|        10|\n",
            "|    null|      null|\n",
            "+--------+----------+\n",
            "\n"
          ]
        }
      ]
    },
    {
      "cell_type": "code",
      "source": [
        "df_pyspark.dtypes"
      ],
      "metadata": {
        "colab": {
          "base_uri": "https://localhost:8080/",
          "height": 0
        },
        "id": "jZC_OedNTN7S",
        "outputId": "b76eec7c-4623-449d-f329-55ddc7f17f84"
      },
      "execution_count": 19,
      "outputs": [
        {
          "output_type": "execute_result",
          "data": {
            "text/plain": [
              "[('name', 'string'), ('age', 'int'), ('Experience', 'int'), ('Salary', 'int')]"
            ]
          },
          "metadata": {},
          "execution_count": 19
        }
      ]
    },
    {
      "cell_type": "code",
      "source": [
        "#similar to pandas we can use the describe method\n",
        "df_pyspark.describe().show()"
      ],
      "metadata": {
        "colab": {
          "base_uri": "https://localhost:8080/",
          "height": 0
        },
        "id": "QjMWLd8ATgUR",
        "outputId": "57e87a18-00e1-4ff8-9cb2-01baed16d874"
      },
      "execution_count": 20,
      "outputs": [
        {
          "output_type": "stream",
          "name": "stdout",
          "text": [
            "+-------+------+------------------+------------------+------------------+\n",
            "|summary|  name|               age|        Experience|            Salary|\n",
            "+-------+------+------------------+------------------+------------------+\n",
            "|  count|     5|                 6|                 5|                 5|\n",
            "|   mean|  null|              34.5|               8.2|           32600.0|\n",
            "| stddev|  null|15.578831791889916|2.4899799195977463|14621.901381147392|\n",
            "|    min|Davide|                15|                 4|             15000|\n",
            "|    max| Paris|                54|                10|             50000|\n",
            "+-------+------+------------------+------------------+------------------+\n",
            "\n"
          ]
        }
      ]
    },
    {
      "cell_type": "code",
      "source": [
        "#adding columns we use the withColumn method which take the new column name and the new column to add\n",
        "df_pyspark=df_pyspark.withColumn(\"Experience after 2 years\",df_pyspark[\"Experience\"]+2)"
      ],
      "metadata": {
        "id": "FrnFU1PkTzyN"
      },
      "execution_count": 21,
      "outputs": []
    },
    {
      "cell_type": "code",
      "source": [
        "df_pyspark.show()"
      ],
      "metadata": {
        "colab": {
          "base_uri": "https://localhost:8080/",
          "height": 0
        },
        "id": "SfUOpPirVfa5",
        "outputId": "60c1fc10-bf5d-4e62-f43e-cdf5022bc5b0"
      },
      "execution_count": 22,
      "outputs": [
        {
          "output_type": "stream",
          "name": "stdout",
          "text": [
            "+--------+----+----------+------+------------------------+\n",
            "|    name| age|Experience|Salary|Experience after 2 years|\n",
            "+--------+----+----------+------+------------------------+\n",
            "|   Paris|  54|        10| 20000|                      12|\n",
            "|    Manu|  49|         8| 50000|                      10|\n",
            "|Gabriele|  19|         9| 15000|                      11|\n",
            "|  Davide|  15|         4|  null|                       6|\n",
            "|  Manesh|null|      null| 40000|                    null|\n",
            "|    null|  34|        10| 38000|                      12|\n",
            "|    null|  36|      null|  null|                    null|\n",
            "+--------+----+----------+------+------------------------+\n",
            "\n"
          ]
        }
      ]
    },
    {
      "cell_type": "code",
      "source": [
        "#to drop a column with can do using the drop method like in pandas\n",
        "df_pyspark=df_pyspark.drop(\"Experience after 2 years\")"
      ],
      "metadata": {
        "id": "6YNoUWmwVszR"
      },
      "execution_count": 23,
      "outputs": []
    },
    {
      "cell_type": "code",
      "source": [
        "df_pyspark.show()"
      ],
      "metadata": {
        "colab": {
          "base_uri": "https://localhost:8080/",
          "height": 0
        },
        "id": "U6WmiSfkV78B",
        "outputId": "2fcce124-cc8a-442d-8d39-29fa69fce901"
      },
      "execution_count": 24,
      "outputs": [
        {
          "output_type": "stream",
          "name": "stdout",
          "text": [
            "+--------+----+----------+------+\n",
            "|    name| age|Experience|Salary|\n",
            "+--------+----+----------+------+\n",
            "|   Paris|  54|        10| 20000|\n",
            "|    Manu|  49|         8| 50000|\n",
            "|Gabriele|  19|         9| 15000|\n",
            "|  Davide|  15|         4|  null|\n",
            "|  Manesh|null|      null| 40000|\n",
            "|    null|  34|        10| 38000|\n",
            "|    null|  36|      null|  null|\n",
            "+--------+----+----------+------+\n",
            "\n"
          ]
        }
      ]
    },
    {
      "cell_type": "code",
      "source": [
        "#to rename the column\n",
        "df_pyspark=df_pyspark.withColumnRenamed(\"name\",\"Name\")"
      ],
      "metadata": {
        "id": "N_ZarIjbV-HJ"
      },
      "execution_count": 25,
      "outputs": []
    },
    {
      "cell_type": "code",
      "source": [
        "df_pyspark.show()"
      ],
      "metadata": {
        "colab": {
          "base_uri": "https://localhost:8080/",
          "height": 0
        },
        "id": "YKrtAjI3WQaq",
        "outputId": "b4089826-487b-4fc9-fbe4-c877805fd407"
      },
      "execution_count": 26,
      "outputs": [
        {
          "output_type": "stream",
          "name": "stdout",
          "text": [
            "+--------+----+----------+------+\n",
            "|    Name| age|Experience|Salary|\n",
            "+--------+----+----------+------+\n",
            "|   Paris|  54|        10| 20000|\n",
            "|    Manu|  49|         8| 50000|\n",
            "|Gabriele|  19|         9| 15000|\n",
            "|  Davide|  15|         4|  null|\n",
            "|  Manesh|null|      null| 40000|\n",
            "|    null|  34|        10| 38000|\n",
            "|    null|  36|      null|  null|\n",
            "+--------+----+----------+------+\n",
            "\n"
          ]
        }
      ]
    },
    {
      "cell_type": "code",
      "source": [
        "from pyspark.sql import SparkSession"
      ],
      "metadata": {
        "id": "_BdfTWzHW5oE"
      },
      "execution_count": 27,
      "outputs": []
    },
    {
      "cell_type": "code",
      "source": [
        "spark=SparkSession.builder.appName(\"Dataframe practice\").getOrCreate()"
      ],
      "metadata": {
        "id": "DCSZD5RqYBbo"
      },
      "execution_count": 28,
      "outputs": []
    },
    {
      "cell_type": "code",
      "source": [
        "df_pyspark=spark.read.csv(\"test.csv\",header=True,inferSchema=True)"
      ],
      "metadata": {
        "id": "56d7NPMiYRbS"
      },
      "execution_count": 29,
      "outputs": []
    },
    {
      "cell_type": "code",
      "source": [
        "df_pyspark.show()"
      ],
      "metadata": {
        "colab": {
          "base_uri": "https://localhost:8080/",
          "height": 0
        },
        "id": "BbA5svdVY-j0",
        "outputId": "1baf8b09-7d78-4e9a-8ee5-bd99d6c05cc1"
      },
      "execution_count": 30,
      "outputs": [
        {
          "output_type": "stream",
          "name": "stdout",
          "text": [
            "+--------+----+----------+------+\n",
            "|    name| age|Experience|Salary|\n",
            "+--------+----+----------+------+\n",
            "|   Paris|  54|        10| 20000|\n",
            "|    Manu|  49|         8| 50000|\n",
            "|Gabriele|  19|         9| 15000|\n",
            "|  Davide|  15|         4|  null|\n",
            "|  Manesh|null|      null| 40000|\n",
            "|    null|  34|        10| 38000|\n",
            "|    null|  36|      null|  null|\n",
            "+--------+----+----------+------+\n",
            "\n"
          ]
        }
      ]
    },
    {
      "cell_type": "code",
      "source": [
        "df=df_pyspark.drop(\"age\")"
      ],
      "metadata": {
        "id": "V0X6MtlPZBLM"
      },
      "execution_count": 31,
      "outputs": []
    },
    {
      "cell_type": "code",
      "source": [
        "type(df)"
      ],
      "metadata": {
        "colab": {
          "base_uri": "https://localhost:8080/",
          "height": 0
        },
        "id": "k-hCaz2CZJdY",
        "outputId": "9867bd8b-34a5-46a7-8885-b0a3a63dbee0"
      },
      "execution_count": 32,
      "outputs": [
        {
          "output_type": "execute_result",
          "data": {
            "text/plain": [
              "pyspark.sql.dataframe.DataFrame"
            ]
          },
          "metadata": {},
          "execution_count": 32
        }
      ]
    },
    {
      "cell_type": "code",
      "source": [
        "df.show()"
      ],
      "metadata": {
        "colab": {
          "base_uri": "https://localhost:8080/",
          "height": 0
        },
        "id": "r7uowYACZLRN",
        "outputId": "7b30b800-3c35-4a43-b8a6-42f9a108e60f"
      },
      "execution_count": 33,
      "outputs": [
        {
          "output_type": "stream",
          "name": "stdout",
          "text": [
            "+--------+----------+------+\n",
            "|    name|Experience|Salary|\n",
            "+--------+----------+------+\n",
            "|   Paris|        10| 20000|\n",
            "|    Manu|         8| 50000|\n",
            "|Gabriele|         9| 15000|\n",
            "|  Davide|         4|  null|\n",
            "|  Manesh|      null| 40000|\n",
            "|    null|        10| 38000|\n",
            "|    null|      null|  null|\n",
            "+--------+----------+------+\n",
            "\n"
          ]
        }
      ]
    },
    {
      "cell_type": "code",
      "source": [
        "df_pyspark.na.drop().show()"
      ],
      "metadata": {
        "colab": {
          "base_uri": "https://localhost:8080/",
          "height": 0
        },
        "id": "GVGTUD72ZTE1",
        "outputId": "cca1ccc0-fb26-4cd9-ad9e-17024ccd6a81"
      },
      "execution_count": 34,
      "outputs": [
        {
          "output_type": "stream",
          "name": "stdout",
          "text": [
            "+--------+---+----------+------+\n",
            "|    name|age|Experience|Salary|\n",
            "+--------+---+----------+------+\n",
            "|   Paris| 54|        10| 20000|\n",
            "|    Manu| 49|         8| 50000|\n",
            "|Gabriele| 19|         9| 15000|\n",
            "+--------+---+----------+------+\n",
            "\n"
          ]
        }
      ]
    },
    {
      "cell_type": "code",
      "source": [
        "df_pyspark.na.drop(how=\"all\").show()"
      ],
      "metadata": {
        "colab": {
          "base_uri": "https://localhost:8080/",
          "height": 0
        },
        "id": "ThPE7H3gZ0sD",
        "outputId": "b079dcd0-d81a-42c9-9e94-dd71dd74d874"
      },
      "execution_count": 35,
      "outputs": [
        {
          "output_type": "stream",
          "name": "stdout",
          "text": [
            "+--------+----+----------+------+\n",
            "|    name| age|Experience|Salary|\n",
            "+--------+----+----------+------+\n",
            "|   Paris|  54|        10| 20000|\n",
            "|    Manu|  49|         8| 50000|\n",
            "|Gabriele|  19|         9| 15000|\n",
            "|  Davide|  15|         4|  null|\n",
            "|  Manesh|null|      null| 40000|\n",
            "|    null|  34|        10| 38000|\n",
            "|    null|  36|      null|  null|\n",
            "+--------+----+----------+------+\n",
            "\n"
          ]
        }
      ]
    },
    {
      "cell_type": "code",
      "source": [
        "df_pyspark.na.drop(how=\"any\",subset=[\"Experience\"]).show()"
      ],
      "metadata": {
        "colab": {
          "base_uri": "https://localhost:8080/",
          "height": 0
        },
        "id": "X9OUK01_aHhu",
        "outputId": "388df30f-0aed-4a06-8ba5-bbe2eaaddaf1"
      },
      "execution_count": 37,
      "outputs": [
        {
          "output_type": "stream",
          "name": "stdout",
          "text": [
            "+--------+---+----------+------+\n",
            "|    name|age|Experience|Salary|\n",
            "+--------+---+----------+------+\n",
            "|   Paris| 54|        10| 20000|\n",
            "|    Manu| 49|         8| 50000|\n",
            "|Gabriele| 19|         9| 15000|\n",
            "|  Davide| 15|         4|  null|\n",
            "|    null| 34|        10| 38000|\n",
            "+--------+---+----------+------+\n",
            "\n"
          ]
        }
      ]
    },
    {
      "cell_type": "code",
      "source": [
        "df_pyspark.na.fill(value=\"missing value\",subset=[\"age\",\"Experience\"]).show()"
      ],
      "metadata": {
        "colab": {
          "base_uri": "https://localhost:8080/",
          "height": 0
        },
        "id": "nNhA9lwRL9sb",
        "outputId": "821ece73-dd51-4fb9-9756-47ff2bae4fcb"
      },
      "execution_count": 39,
      "outputs": [
        {
          "output_type": "stream",
          "name": "stdout",
          "text": [
            "+--------+----+----------+------+\n",
            "|    name| age|Experience|Salary|\n",
            "+--------+----+----------+------+\n",
            "|   Paris|  54|        10| 20000|\n",
            "|    Manu|  49|         8| 50000|\n",
            "|Gabriele|  19|         9| 15000|\n",
            "|  Davide|  15|         4|  null|\n",
            "|  Manesh|null|      null| 40000|\n",
            "|    null|  34|        10| 38000|\n",
            "|    null|  36|      null|  null|\n",
            "+--------+----+----------+------+\n",
            "\n"
          ]
        }
      ]
    },
    {
      "cell_type": "code",
      "source": [
        "df_pyspark.show()"
      ],
      "metadata": {
        "colab": {
          "base_uri": "https://localhost:8080/",
          "height": 0
        },
        "id": "kgBUCXRqMafJ",
        "outputId": "07718f08-f52b-4789-d7e4-bc7633fe57bd"
      },
      "execution_count": 40,
      "outputs": [
        {
          "output_type": "stream",
          "name": "stdout",
          "text": [
            "+--------+----+----------+------+\n",
            "|    name| age|Experience|Salary|\n",
            "+--------+----+----------+------+\n",
            "|   Paris|  54|        10| 20000|\n",
            "|    Manu|  49|         8| 50000|\n",
            "|Gabriele|  19|         9| 15000|\n",
            "|  Davide|  15|         4|  null|\n",
            "|  Manesh|null|      null| 40000|\n",
            "|    null|  34|        10| 38000|\n",
            "|    null|  36|      null|  null|\n",
            "+--------+----+----------+------+\n",
            "\n"
          ]
        }
      ]
    },
    {
      "cell_type": "code",
      "source": [
        "df=df_pyspark.na.drop()"
      ],
      "metadata": {
        "id": "W6fCNmAoN2Ca"
      },
      "execution_count": 41,
      "outputs": []
    },
    {
      "cell_type": "code",
      "source": [
        "df.show()"
      ],
      "metadata": {
        "colab": {
          "base_uri": "https://localhost:8080/",
          "height": 0
        },
        "id": "YAbAQwvUOFci",
        "outputId": "e2c9f19c-a38a-4c7e-f154-efb7ff43c5c1"
      },
      "execution_count": 42,
      "outputs": [
        {
          "output_type": "stream",
          "name": "stdout",
          "text": [
            "+--------+---+----------+------+\n",
            "|    name|age|Experience|Salary|\n",
            "+--------+---+----------+------+\n",
            "|   Paris| 54|        10| 20000|\n",
            "|    Manu| 49|         8| 50000|\n",
            "|Gabriele| 19|         9| 15000|\n",
            "+--------+---+----------+------+\n",
            "\n"
          ]
        }
      ]
    },
    {
      "cell_type": "code",
      "source": [
        "#filter operations using pyspark\n",
        "#find our salary of pepople <= 40000\n",
        "df.filter(\"Salary<=40000\").show()"
      ],
      "metadata": {
        "colab": {
          "base_uri": "https://localhost:8080/",
          "height": 0
        },
        "id": "WhTxbrQzMfpo",
        "outputId": "3a81df3c-6699-4464-c1ea-98d6387e5482"
      },
      "execution_count": 43,
      "outputs": [
        {
          "output_type": "stream",
          "name": "stdout",
          "text": [
            "+--------+---+----------+------+\n",
            "|    name|age|Experience|Salary|\n",
            "+--------+---+----------+------+\n",
            "|   Paris| 54|        10| 20000|\n",
            "|Gabriele| 19|         9| 15000|\n",
            "+--------+---+----------+------+\n",
            "\n"
          ]
        }
      ]
    },
    {
      "cell_type": "code",
      "source": [
        "df.filter(\"Salary<=40000\").select([\"name\",\"age\"]).show()"
      ],
      "metadata": {
        "colab": {
          "base_uri": "https://localhost:8080/",
          "height": 0
        },
        "id": "3imzu7CYOekU",
        "outputId": "3a2a2f0e-91f2-448e-df4f-eda3846ada8f"
      },
      "execution_count": 44,
      "outputs": [
        {
          "output_type": "stream",
          "name": "stdout",
          "text": [
            "+--------+---+\n",
            "|    name|age|\n",
            "+--------+---+\n",
            "|   Paris| 54|\n",
            "|Gabriele| 19|\n",
            "+--------+---+\n",
            "\n"
          ]
        }
      ]
    },
    {
      "cell_type": "code",
      "source": [
        "df.filter(df[\"Salary\"]<=40000).show()"
      ],
      "metadata": {
        "colab": {
          "base_uri": "https://localhost:8080/",
          "height": 0
        },
        "id": "_X-57upjOoZD",
        "outputId": "5de66e1f-2b0c-4608-d194-0e4eb33e1218"
      },
      "execution_count": 47,
      "outputs": [
        {
          "output_type": "stream",
          "name": "stdout",
          "text": [
            "+--------+---+----------+------+\n",
            "|    name|age|Experience|Salary|\n",
            "+--------+---+----------+------+\n",
            "|   Paris| 54|        10| 20000|\n",
            "|Gabriele| 19|         9| 15000|\n",
            "+--------+---+----------+------+\n",
            "\n"
          ]
        }
      ]
    },
    {
      "cell_type": "code",
      "source": [
        "#just some practice on Spark MLlib the Spark Machine Laerning Library\n",
        "training=spark.read.csv(\"/content/test.csv\",header=True,inferSchema=True)"
      ],
      "metadata": {
        "id": "Jt2TEMC2PkHN"
      },
      "execution_count": 48,
      "outputs": []
    },
    {
      "cell_type": "code",
      "source": [
        "training.show()"
      ],
      "metadata": {
        "colab": {
          "base_uri": "https://localhost:8080/",
          "height": 0
        },
        "id": "V3I-MxanQt_e",
        "outputId": "f3fffbe9-553e-4769-f29c-666ec92aa3e6"
      },
      "execution_count": 49,
      "outputs": [
        {
          "output_type": "stream",
          "name": "stdout",
          "text": [
            "+--------+---+----------+------+\n",
            "|    name|age|Experience|Salary|\n",
            "+--------+---+----------+------+\n",
            "|   Paris| 54|        10| 20000|\n",
            "|    Manu| 49|         8| 50000|\n",
            "|Gabriele| 19|         9| 15000|\n",
            "|  Davide| 15|         4| 45000|\n",
            "|  Manesh| 31|         7| 40000|\n",
            "|    Chus| 34|        10| 38000|\n",
            "|   Khris| 36|         8| 25000|\n",
            "+--------+---+----------+------+\n",
            "\n"
          ]
        }
      ]
    },
    {
      "cell_type": "code",
      "source": [
        "training.columns"
      ],
      "metadata": {
        "colab": {
          "base_uri": "https://localhost:8080/",
          "height": 0
        },
        "id": "kkJHi6KuQv-i",
        "outputId": "c82a156a-9a86-4bf4-8fc9-3271ee3e5882"
      },
      "execution_count": 50,
      "outputs": [
        {
          "output_type": "execute_result",
          "data": {
            "text/plain": [
              "['name', 'age', 'Experience', 'Salary']"
            ]
          },
          "metadata": {},
          "execution_count": 50
        }
      ]
    },
    {
      "cell_type": "code",
      "source": [
        "training.printSchema()"
      ],
      "metadata": {
        "colab": {
          "base_uri": "https://localhost:8080/",
          "height": 0
        },
        "id": "CG4tl3sFQyE-",
        "outputId": "694ecafa-d082-4bff-e0da-7cc9e1a322ad"
      },
      "execution_count": 51,
      "outputs": [
        {
          "output_type": "stream",
          "name": "stdout",
          "text": [
            "root\n",
            " |-- name: string (nullable = true)\n",
            " |-- age: integer (nullable = true)\n",
            " |-- Experience: integer (nullable = true)\n",
            " |-- Salary: integer (nullable = true)\n",
            "\n"
          ]
        }
      ]
    },
    {
      "cell_type": "code",
      "source": [
        "from pyspark.ml.feature import VectorAssembler"
      ],
      "metadata": {
        "id": "6-H9OaLQQ2vQ"
      },
      "execution_count": 52,
      "outputs": []
    },
    {
      "cell_type": "code",
      "source": [
        "featureassembler=VectorAssembler(inputCols=[\"age\",\"Experience\"],outputCol=\"Independent feature\")"
      ],
      "metadata": {
        "id": "OhZYCEr_RIzh"
      },
      "execution_count": 54,
      "outputs": []
    },
    {
      "cell_type": "code",
      "source": [
        "output=featureassembler.transform(training)"
      ],
      "metadata": {
        "id": "_y60UWYyRsoi"
      },
      "execution_count": 56,
      "outputs": []
    },
    {
      "cell_type": "code",
      "source": [
        "output.show()"
      ],
      "metadata": {
        "colab": {
          "base_uri": "https://localhost:8080/",
          "height": 0
        },
        "id": "vi2nF3o2R7H6",
        "outputId": "d9264764-dd0b-45e3-ae18-690163ef683e"
      },
      "execution_count": 57,
      "outputs": [
        {
          "output_type": "stream",
          "name": "stdout",
          "text": [
            "+--------+---+----------+------+-------------------+\n",
            "|    name|age|Experience|Salary|Independent feature|\n",
            "+--------+---+----------+------+-------------------+\n",
            "|   Paris| 54|        10| 20000|        [54.0,10.0]|\n",
            "|    Manu| 49|         8| 50000|         [49.0,8.0]|\n",
            "|Gabriele| 19|         9| 15000|         [19.0,9.0]|\n",
            "|  Davide| 15|         4| 45000|         [15.0,4.0]|\n",
            "|  Manesh| 31|         7| 40000|         [31.0,7.0]|\n",
            "|    Chus| 34|        10| 38000|        [34.0,10.0]|\n",
            "|   Khris| 36|         8| 25000|         [36.0,8.0]|\n",
            "+--------+---+----------+------+-------------------+\n",
            "\n"
          ]
        }
      ]
    },
    {
      "cell_type": "code",
      "source": [
        "finalized_data=output.select([\"Independent feature\",\"Salary\"])\n",
        "finalized_data.show()"
      ],
      "metadata": {
        "colab": {
          "base_uri": "https://localhost:8080/",
          "height": 0
        },
        "id": "6tsQ-keqR_FP",
        "outputId": "12495cc4-caaf-40dd-fe5c-6256ea5423fd"
      },
      "execution_count": 58,
      "outputs": [
        {
          "output_type": "stream",
          "name": "stdout",
          "text": [
            "+-------------------+------+\n",
            "|Independent feature|Salary|\n",
            "+-------------------+------+\n",
            "|        [54.0,10.0]| 20000|\n",
            "|         [49.0,8.0]| 50000|\n",
            "|         [19.0,9.0]| 15000|\n",
            "|         [15.0,4.0]| 45000|\n",
            "|         [31.0,7.0]| 40000|\n",
            "|        [34.0,10.0]| 38000|\n",
            "|         [36.0,8.0]| 25000|\n",
            "+-------------------+------+\n",
            "\n"
          ]
        }
      ]
    },
    {
      "cell_type": "code",
      "source": [
        "from pyspark.ml.regression import LinearRegression\n",
        "train_data,test_data=finalized_data.randomSplit([0.75,0.25])"
      ],
      "metadata": {
        "id": "lfqnOJOVSZbs"
      },
      "execution_count": 59,
      "outputs": []
    },
    {
      "cell_type": "code",
      "source": [
        "train_data.show()"
      ],
      "metadata": {
        "colab": {
          "base_uri": "https://localhost:8080/",
          "height": 0
        },
        "id": "on-7d0fgSpXn",
        "outputId": "52e35cf3-bdd2-4970-9fab-4cfea4f1b193"
      },
      "execution_count": 60,
      "outputs": [
        {
          "output_type": "stream",
          "name": "stdout",
          "text": [
            "+-------------------+------+\n",
            "|Independent feature|Salary|\n",
            "+-------------------+------+\n",
            "|         [19.0,9.0]| 15000|\n",
            "|         [36.0,8.0]| 25000|\n",
            "|         [49.0,8.0]| 50000|\n",
            "|        [54.0,10.0]| 20000|\n",
            "+-------------------+------+\n",
            "\n"
          ]
        }
      ]
    },
    {
      "cell_type": "code",
      "source": [
        "test_data.show()"
      ],
      "metadata": {
        "colab": {
          "base_uri": "https://localhost:8080/",
          "height": 0
        },
        "id": "4XEIC7O4Srti",
        "outputId": "e8ebe1fb-5370-4253-efee-5a46add5e707"
      },
      "execution_count": 61,
      "outputs": [
        {
          "output_type": "stream",
          "name": "stdout",
          "text": [
            "+-------------------+------+\n",
            "|Independent feature|Salary|\n",
            "+-------------------+------+\n",
            "|         [15.0,4.0]| 45000|\n",
            "|         [31.0,7.0]| 40000|\n",
            "|        [34.0,10.0]| 38000|\n",
            "+-------------------+------+\n",
            "\n"
          ]
        }
      ]
    },
    {
      "cell_type": "code",
      "source": [
        "regressor=LinearRegression(featuresCol=\"Independent feature\",labelCol=\"Salary\")"
      ],
      "metadata": {
        "id": "0Jdqhb2ySupu"
      },
      "execution_count": 69,
      "outputs": []
    },
    {
      "cell_type": "code",
      "source": [
        "regres=regressor.fit(train_data)"
      ],
      "metadata": {
        "id": "4KJ2mSinTUBW"
      },
      "execution_count": 70,
      "outputs": []
    },
    {
      "cell_type": "code",
      "source": [
        "regres.coefficients"
      ],
      "metadata": {
        "colab": {
          "base_uri": "https://localhost:8080/",
          "height": 0
        },
        "id": "nNSmWNtFToGj",
        "outputId": "825b55e4-7720-46d6-e843-3c91e03f5b9a"
      },
      "execution_count": 71,
      "outputs": [
        {
          "output_type": "execute_result",
          "data": {
            "text/plain": [
              "DenseVector([643.8127, -11989.9666])"
            ]
          },
          "metadata": {},
          "execution_count": 71
        }
      ]
    },
    {
      "cell_type": "code",
      "source": [
        "regres.intercept"
      ],
      "metadata": {
        "colab": {
          "base_uri": "https://localhost:8080/",
          "height": 0
        },
        "id": "cVjUnTv8T5-D",
        "outputId": "4631c232-a206-4f95-e813-5a9805e06923"
      },
      "execution_count": 72,
      "outputs": [
        {
          "output_type": "execute_result",
          "data": {
            "text/plain": [
              "106981.60535117141"
            ]
          },
          "metadata": {},
          "execution_count": 72
        }
      ]
    },
    {
      "cell_type": "code",
      "source": [
        "pre_results=regres.evaluate(test_data)"
      ],
      "metadata": {
        "id": "4DHAN6xqT8ld"
      },
      "execution_count": 74,
      "outputs": []
    },
    {
      "cell_type": "code",
      "source": [
        "pre_results.predictions.show()"
      ],
      "metadata": {
        "colab": {
          "base_uri": "https://localhost:8080/",
          "height": 0
        },
        "id": "kTjCJHJjUOgD",
        "outputId": "88cf407c-cd4e-4358-c263-16bec19a8920"
      },
      "execution_count": 77,
      "outputs": [
        {
          "output_type": "stream",
          "name": "stdout",
          "text": [
            "+-------------------+------+------------------+\n",
            "|Independent feature|Salary|        prediction|\n",
            "+-------------------+------+------------------+\n",
            "|         [15.0,4.0]| 45000| 68678.92976588674|\n",
            "|         [31.0,7.0]| 40000|43010.033444816225|\n",
            "|        [34.0,10.0]| 38000| 8971.571906354395|\n",
            "+-------------------+------+------------------+\n",
            "\n"
          ]
        }
      ]
    }
  ]
}